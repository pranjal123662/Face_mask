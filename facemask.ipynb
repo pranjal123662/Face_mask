{
 "cells": [
  {
   "cell_type": "code",
   "execution_count": 21,
   "metadata": {},
   "outputs": [
    {
     "name": "stdout",
     "output_type": "stream",
     "text": [
      "{'without_mask': 0, 'with_mask': 1}\n",
      "['without_mask', 'with_mask']\n",
      "[0, 1]\n"
     ]
    }
   ],
   "source": [
    "import os,cv2\n",
    "path=r'C:\\Users\\Pranjal\\Desktop\\facemask'\n",
    "categories=os.listdir(path)\n",
    "labels=[i for i in range(len(categories))]\n",
    "label_dict=dict(zip(categories,labels))\n",
    "print(label_dict)\n",
    "print(categories)\n",
    "print(labels)\n"
   ]
  },
  {
   "cell_type": "code",
   "execution_count": 25,
   "metadata": {},
   "outputs": [],
   "source": [
    "img_size=100\n",
    "data=[]\n",
    "target=[]\n",
    "for category in categories:\n",
    "    folder_path=os.path.join(path,category)\n",
    "    img_names=os.listdir(folder_path)\n",
    "    for img_name in img_names:\n",
    "        img_path=os.path.join(folder_path,img_name)\n",
    "        img=cv2.imread(img_path)\n",
    "        try:   \n",
    "            gray=cv2.cvtColor(img,cv2.COLOR_BGR2GRAY)           \n",
    "            #Coverting the image into gray scale\n",
    "            resized=cv2.resize(gray,(img_size,img_size))\n",
    "            #resizing the gray scale into 50x50, since we need a fixed common size for all the images in the dataset\n",
    "            data.append(resized)\n",
    "            target.append(label_dict[category])\n",
    "            #appending the image and the label(categorized) into the list (dataset)\n",
    "\n",
    "        except Exception as e:\n",
    "            print('Exception:',e)\n",
    "            #if any exception rasied, the exception will be printed here. And pass to the next image"
   ]
  },
  {
   "cell_type": "code",
   "execution_count": 26,
   "metadata": {},
   "outputs": [
    {
     "name": "stderr",
     "output_type": "stream",
     "text": [
      "Using TensorFlow backend.\n"
     ]
    }
   ],
   "source": [
    "import numpy as np\n",
    "\n",
    "data=np.array(data)/255.0\n",
    "data=np.reshape(data,(data.shape[0],img_size,img_size,1))\n",
    "target=np.array(target)\n",
    "\n",
    "from keras.utils import np_utils\n",
    "\n",
    "new_target=np_utils.to_categorical(target)"
   ]
  },
  {
   "cell_type": "code",
   "execution_count": 27,
   "metadata": {},
   "outputs": [],
   "source": [
    "np.save('data',data)\n",
    "np.save('target',new_target)"
   ]
  },
  {
   "cell_type": "code",
   "execution_count": 28,
   "metadata": {},
   "outputs": [],
   "source": [
    "import numpy as np\n",
    "\n",
    "data=np.load('data.npy')\n",
    "target=np.load('target.npy')\n"
   ]
  },
  {
   "cell_type": "code",
   "execution_count": 29,
   "metadata": {},
   "outputs": [],
   "source": [
    "from keras.models import Sequential\n",
    "from keras.layers import Dense,Activation,Flatten,Dropout\n",
    "from keras.layers import Conv2D,MaxPooling2D\n",
    "from keras.callbacks import ModelCheckpoint\n",
    "\n",
    "model=Sequential()\n",
    "\n",
    "model.add(Conv2D(200,(3,3),input_shape=data.shape[1:]))\n",
    "model.add(Activation('relu'))\n",
    "model.add(MaxPooling2D(pool_size=(2,2)))\n",
    "#The first CNN layer followed by Relu and MaxPooling layers\n",
    "\n",
    "model.add(Conv2D(100,(3,3)))\n",
    "model.add(Activation('relu'))\n",
    "model.add(MaxPooling2D(pool_size=(2,2)))\n",
    "#The second convolution layer followed by Relu and MaxPooling layers\n",
    "\n",
    "model.add(Flatten())\n",
    "model.add(Dropout(0.5))\n",
    "#Flatten layer to stack the output convolutions from second convolution layer\n",
    "model.add(Dense(50,activation='relu'))\n",
    "#Dense layer of 64 neurons\n",
    "model.add(Dense(2,activation='softmax'))\n",
    "#The Final layer with two outputs for two categories\n",
    "\n",
    "model.compile(loss='categorical_crossentropy',optimizer='adam',metrics=['accuracy'])"
   ]
  },
  {
   "cell_type": "code",
   "execution_count": 30,
   "metadata": {},
   "outputs": [],
   "source": [
    "from sklearn.model_selection import train_test_split\n",
    "train_data,test_data,train_target,test_target=train_test_split(data,target,test_size=0.1)"
   ]
  },
  {
   "cell_type": "code",
   "execution_count": 31,
   "metadata": {},
   "outputs": [
    {
     "name": "stdout",
     "output_type": "stream",
     "text": [
      "Train on 990 samples, validate on 248 samples\n",
      "Epoch 1/20\n",
      "990/990 [==============================] - 41s 42ms/step - loss: 0.7100 - accuracy: 0.5182 - val_loss: 0.6529 - val_accuracy: 0.6815\n",
      "Epoch 2/20\n",
      "990/990 [==============================] - 37s 37ms/step - loss: 0.5742 - accuracy: 0.7030 - val_loss: 0.4203 - val_accuracy: 0.8387\n",
      "Epoch 3/20\n",
      "990/990 [==============================] - 37s 37ms/step - loss: 0.3824 - accuracy: 0.8242 - val_loss: 0.3106 - val_accuracy: 0.8871\n",
      "Epoch 4/20\n",
      "990/990 [==============================] - 37s 38ms/step - loss: 0.2327 - accuracy: 0.9081 - val_loss: 0.2619 - val_accuracy: 0.8911\n",
      "Epoch 5/20\n",
      "990/990 [==============================] - 37s 38ms/step - loss: 0.1568 - accuracy: 0.9444 - val_loss: 0.2488 - val_accuracy: 0.9073\n",
      "Epoch 6/20\n",
      "990/990 [==============================] - 37s 37ms/step - loss: 0.1074 - accuracy: 0.9657 - val_loss: 0.1972 - val_accuracy: 0.9194\n",
      "Epoch 7/20\n",
      "990/990 [==============================] - 37s 37ms/step - loss: 0.0724 - accuracy: 0.9798 - val_loss: 0.1797 - val_accuracy: 0.9315\n",
      "Epoch 8/20\n",
      "990/990 [==============================] - 39s 40ms/step - loss: 0.0547 - accuracy: 0.9758 - val_loss: 0.1673 - val_accuracy: 0.9355\n",
      "Epoch 9/20\n",
      "990/990 [==============================] - 38s 38ms/step - loss: 0.0440 - accuracy: 0.9869 - val_loss: 0.2281 - val_accuracy: 0.9234\n",
      "Epoch 10/20\n",
      "990/990 [==============================] - 39s 40ms/step - loss: 0.0329 - accuracy: 0.9909 - val_loss: 0.1697 - val_accuracy: 0.9395\n",
      "Epoch 11/20\n",
      "990/990 [==============================] - 43s 43ms/step - loss: 0.0433 - accuracy: 0.9848 - val_loss: 0.1959 - val_accuracy: 0.9315\n",
      "Epoch 12/20\n",
      "990/990 [==============================] - 44s 44ms/step - loss: 0.0284 - accuracy: 0.9929 - val_loss: 0.2294 - val_accuracy: 0.9355\n",
      "Epoch 13/20\n",
      "990/990 [==============================] - 43s 44ms/step - loss: 0.0203 - accuracy: 0.9949 - val_loss: 0.2091 - val_accuracy: 0.9395\n",
      "Epoch 14/20\n",
      "990/990 [==============================] - 40s 40ms/step - loss: 0.0179 - accuracy: 0.9960 - val_loss: 0.2420 - val_accuracy: 0.9194\n",
      "Epoch 15/20\n",
      "990/990 [==============================] - 38s 38ms/step - loss: 0.0168 - accuracy: 0.9939 - val_loss: 0.2099 - val_accuracy: 0.9435\n",
      "Epoch 16/20\n",
      "990/990 [==============================] - 38s 38ms/step - loss: 0.0212 - accuracy: 0.9919 - val_loss: 0.2149 - val_accuracy: 0.9435\n",
      "Epoch 17/20\n",
      "990/990 [==============================] - 38s 38ms/step - loss: 0.0477 - accuracy: 0.9818 - val_loss: 0.2545 - val_accuracy: 0.9315\n",
      "Epoch 18/20\n",
      "990/990 [==============================] - 38s 38ms/step - loss: 0.0098 - accuracy: 0.9980 - val_loss: 0.2775 - val_accuracy: 0.9476\n",
      "Epoch 19/20\n",
      "990/990 [==============================] - 38s 38ms/step - loss: 0.0108 - accuracy: 0.9990 - val_loss: 0.2231 - val_accuracy: 0.9597\n",
      "Epoch 20/20\n",
      "990/990 [==============================] - 38s 38ms/step - loss: 0.0088 - accuracy: 0.9970 - val_loss: 0.2602 - val_accuracy: 0.9315\n"
     ]
    }
   ],
   "source": [
    "checkpoint = ModelCheckpoint('model-{epoch:03d}.model',monitor='val_loss',verbose=0,save_best_only=True,mode='auto')\n",
    "history=model.fit(train_data,train_target,epochs=20,callbacks=[checkpoint],validation_split=0.2)"
   ]
  },
  {
   "cell_type": "code",
   "execution_count": 35,
   "metadata": {},
   "outputs": [
    {
     "data": {
      "image/png": "[encoded data removed]",
      "text/plain": [
       "<Figure size 432x288 with 1 Axes>"
      ]
     },
     "metadata": {
      "needs_background": "light"
     },
     "output_type": "display_data"
    }
   ],
   "source": [
    "from matplotlib import pyplot as plt\n",
    "plt.plot(history.history['loss'],'r',label='training loss')\n",
    "plt.plot(history.history['val_loss'],label='validation loss')\n",
    "plt.xlabel('# epochs')\n",
    "plt.ylabel('loss')\n",
    "plt.legend()\n",
    "plt.show()\n"
   ]
  },
  {
   "cell_type": "code",
   "execution_count": 37,
   "metadata": {},
   "outputs": [
    {
     "data": {
      "image/png": "[encoded data removed]",
      "text/plain": [
       "<Figure size 432x288 with 1 Axes>"
      ]
     },
     "metadata": {
      "needs_background": "light"
     },
     "output_type": "display_data"
    }
   ],
   "source": [
    "plt.plot(history.history['accuracy'],'r',label='training accuracy')\n",
    "plt.plot(history.history['val_accuracy'],label='validation accuracy')\n",
    "plt.xlabel('# epochs')\n",
    "plt.ylabel('loss')\n",
    "plt.legend()\n",
    "plt.show()"
   ]
  },
  {
   "cell_type": "code",
   "execution_count": 38,
   "metadata": {},
   "outputs": [
    {
     "name": "stdout",
     "output_type": "stream",
     "text": [
      "138/138 [==============================] - 1s 9ms/step\n",
      "[0.25644911379566876, 0.95652174949646]\n"
     ]
    }
   ],
   "source": [
    "print(model.evaluate(test_data,test_target))"
   ]
  },
  {
   "cell_type": "code",
   "execution_count": null,
   "metadata": {},
   "outputs": [],
   "source": [
    "from keras.models import load_model\n",
    "import numpy as np\n",
    "import cv2\n",
    "model = load_model('model-017.model')\n",
    "face_clsfr=cv2.CascadeClassifier('haarcascade_frontalface_default.xml')\n",
    "\n",
    "source=cv2.VideoCapture(0)\n",
    "\n",
    "labels_dict={0:'MASK',1:'NO MASK'}\n",
    "color_dict={0:(0,255,0),1:(0,0,255)}"
   ]
  },
  {
   "cell_type": "code",
   "execution_count": null,
   "metadata": {},
   "outputs": [],
   "source": [
    "while(True):\n",
    "\n",
    "    ret,img=source.read()\n",
    "    gray=cv2.cvtColor(img,cv2.COLOR_BGR2GRAY)\n",
    "    faces=face_clsfr.detectMultiScale(gray,1.3,5)  \n",
    "\n",
    "    for (x,y,w,h) in faces:\n",
    "    \n",
    "        face_img=gray[y:y+w,x:x+w]\n",
    "        resized=cv2.resize(face_img,(100,100))\n",
    "        normalized=resized/255.0\n",
    "        reshaped=np.reshape(normalized,(1,100,100,1))\n",
    "        result=model.predict(reshaped)\n",
    "\n",
    "        label=np.argmax(result,axis=1)[0]\n",
    "      \n",
    "        cv2.rectangle(img,(x,y),(x+w,y+h),color_dict[label],2)\n",
    "        cv2.rectangle(img,(x,y-40),(x+w,y),color_dict[label],-1)\n",
    "        cv2.putText(img, labels_dict[label], (x, y-10),cv2.FONT_HERSHEY_SIMPLEX,0.8,(255,255,255),2)\n",
    "        \n",
    "        \n",
    "    cv2.imshow('LIVE',img)\n",
    "    key=cv2.waitKey(1)\n",
    "    \n",
    "    if(key==27):\n",
    "        break\n",
    "        \n",
    "cv2.destroyAllWindows()\n",
    "source.release()"
   ]
  },
  {
   "cell_type": "code",
   "execution_count": null,
   "metadata": {},
   "outputs": [],
   "source": []
  },
  {
   "cell_type": "code",
   "execution_count": null,
   "metadata": {},
   "outputs": [],
   "source": []
  }
 ],
 "metadata": {
  "kernelspec": {
   "display_name": "Python 3",
   "language": "python",
   "name": "python3"
  },
  "language_info": {
   "codemirror_mode": {
    "name": "ipython",
    "version": 3
   },
   "file_extension": ".py",
   "mimetype": "text/x-python",
   "name": "python",
   "nbconvert_exporter": "python",
   "pygments_lexer": "ipython3",
   "version": "3.7.6"
  }
 },
 "nbformat": 4,
 "nbformat_minor": 4
}
